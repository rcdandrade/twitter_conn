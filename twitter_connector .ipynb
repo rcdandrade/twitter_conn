{
 "cells": [
  {
   "cell_type": "code",
   "execution_count": 4,
   "metadata": {},
   "outputs": [
    {
     "name": "stdout",
     "output_type": "stream",
     "text": [
      "Requirement already satisfied: tweepy in /opt/conda/lib/python3.7/site-packages (4.12.1)\n",
      "Requirement already satisfied: requests-oauthlib<2,>=1.2.0 in /opt/conda/lib/python3.7/site-packages (from tweepy) (1.3.1)\n",
      "Requirement already satisfied: oauthlib<4,>=3.2.0 in /opt/conda/lib/python3.7/site-packages (from tweepy) (3.2.2)\n",
      "Requirement already satisfied: requests<3,>=2.27.0 in /opt/conda/lib/python3.7/site-packages (from tweepy) (2.28.1)\n",
      "Requirement already satisfied: certifi>=2017.4.17 in /opt/conda/lib/python3.7/site-packages (from requests<3,>=2.27.0->tweepy) (2020.4.5.2)\n",
      "Requirement already satisfied: urllib3<1.27,>=1.21.1 in /opt/conda/lib/python3.7/site-packages (from requests<3,>=2.27.0->tweepy) (1.25.9)\n",
      "Requirement already satisfied: idna<4,>=2.5 in /opt/conda/lib/python3.7/site-packages (from requests<3,>=2.27.0->tweepy) (2.9)\n",
      "Requirement already satisfied: charset-normalizer<3,>=2 in /opt/conda/lib/python3.7/site-packages (from requests<3,>=2.27.0->tweepy) (2.1.1)\n"
     ]
    }
   ],
   "source": [
    "!pip3 install tweepy"
   ]
  },
  {
   "cell_type": "code",
   "execution_count": 3,
   "metadata": {},
   "outputs": [
    {
     "data": {
      "text/html": [
       "\n",
       "            <div>\n",
       "                <p><b>SparkSession - in-memory</b></p>\n",
       "                \n",
       "        <div>\n",
       "            <p><b>SparkContext</b></p>\n",
       "\n",
       "            <p><a href=\"http://05378189c8aa:4042\">Spark UI</a></p>\n",
       "\n",
       "            <dl>\n",
       "              <dt>Version</dt>\n",
       "                <dd><code>v2.4.5</code></dd>\n",
       "              <dt>Master</dt>\n",
       "                <dd><code>local[*]</code></dd>\n",
       "              <dt>AppName</dt>\n",
       "                <dd><code>pyspark-shell</code></dd>\n",
       "            </dl>\n",
       "        </div>\n",
       "        \n",
       "            </div>\n",
       "        "
      ],
      "text/plain": [
       "<pyspark.sql.session.SparkSession at 0x7f18a8135c10>"
      ]
     },
     "execution_count": 3,
     "metadata": {},
     "output_type": "execute_result"
    }
   ],
   "source": [
    "from pyspark.sql import SparkSession\n",
    "spark = SparkSession.builder.getOrCreate()\n",
    "spark"
   ]
  },
  {
   "cell_type": "code",
   "execution_count": 2,
   "metadata": {},
   "outputs": [],
   "source": [
    "import tweepy\n",
    "import pandas as pd"
   ]
  },
  {
   "cell_type": "code",
   "execution_count": 5,
   "metadata": {},
   "outputs": [],
   "source": [
    "api_key             = \"WWW\"\n",
    "api_key_secret      = \"XXX\"\n",
    "access_token        = \"YYY\"\n",
    "access_token_secret = \"ZZZ\""
   ]
  },
  {
   "cell_type": "code",
   "execution_count": 9,
   "metadata": {},
   "outputs": [
    {
     "data": {
      "text/plain": [
       "<tweepy.api.API at 0x7f589b249a10>"
      ]
     },
     "execution_count": 9,
     "metadata": {},
     "output_type": "execute_result"
    }
   ],
   "source": [
    "auth = tweepy.OAuthHandler(api_key, api_key_secret)\n",
    "auth.set_access_token(access_token, access_token_secret)\n",
    "api = tweepy.API(auth)\n",
    "api"
   ]
  },
  {
   "cell_type": "code",
   "execution_count": 68,
   "metadata": {},
   "outputs": [
    {
     "data": {
      "text/plain": [
       "<tweepy.cursor.ItemIterator at 0x7f589aa81150>"
      ]
     },
     "execution_count": 68,
     "metadata": {},
     "output_type": "execute_result"
    }
   ],
   "source": [
    "user = \"neymarjr\"\n",
    "cursor = tweepy.Cursor(api.user_timeline, id=user, tweet_mode=\"extended\").items(3)\n",
    "cursor"
   ]
  },
  {
   "cell_type": "code",
   "execution_count": 69,
   "metadata": {},
   "outputs": [
    {
     "name": "stderr",
     "output_type": "stream",
     "text": [
      "Unexpected parameter: id\n"
     ]
    },
    {
     "name": "stdout",
     "output_type": "stream",
     "text": [
      "@neymarjr\n",
      "2022-12-09 13:33:33+00:00\n",
      "Que Deus nos abençoe e nos proteja 🙏❤️🇧🇷 https://t.co/0VMA5AJqtb\n",
      "\n",
      "\n",
      "@neymarjr\n",
      "2022-12-06 00:30:07+00:00\n",
      "Grito de desabafo, grito de EU CONSEGUI!! \n",
      "OBRIGADO MEU DEUS 🙏❤️\n",
      "Toda honra e toda glória é pra ti. https://t.co/Ci1NgkKiDu\n",
      "\n",
      "\n",
      "@neymarjr\n",
      "2022-12-05 23:29:53+00:00\n",
      "Deus 🙏 https://t.co/UvxW9dIi3R\n",
      "\n",
      "\n"
     ]
    }
   ],
   "source": [
    "msg = \"\"\n",
    "for info in cursor:\n",
    "    print(\"@{0}\".format(user))\n",
    "    print(info.created_at)\n",
    "    print(info.full_text)\n",
    "    print(\"\\n\")\n",
    "    msg += info.full_text\n",
    "    "
   ]
  },
  {
   "cell_type": "code",
   "execution_count": 74,
   "metadata": {},
   "outputs": [
    {
     "name": "stdout",
     "output_type": "stream",
     "text": [
      "Frequencia da palavra: \" nos \" é : 2\n",
      "Frequencia da palavra: \" e \" é : 2\n",
      "Frequencia da palavra: \" https://t.co/Ci1NgkKiDuDeus \" é : 1\n",
      "Frequencia da palavra: \" 🙏 \" é : 1\n",
      "Frequencia da palavra: \" EU \" é : 1\n",
      "Frequencia da palavra: \" proteja \" é : 1\n",
      "Frequencia da palavra: \" desabafo, \" é : 1\n",
      "Frequencia da palavra: \" pra \" é : 1\n",
      "Frequencia da palavra: \" é \" é : 1\n",
      "Frequencia da palavra: \" Toda \" é : 1\n",
      "Frequencia da palavra: \" toda \" é : 1\n",
      "Frequencia da palavra: \" OBRIGADO \" é : 1\n",
      "Frequencia da palavra: \" Deus \" é : 1\n",
      "Frequencia da palavra: \" DEUS \" é : 1\n",
      "Frequencia da palavra: \" abençoe \" é : 1\n",
      "Frequencia da palavra: \" 🙏❤️ \" é : 1\n",
      "Frequencia da palavra: \" ti. \" é : 1\n",
      "Frequencia da palavra: \" https://t.co/UvxW9dIi3R \" é : 1\n",
      "Frequencia da palavra: \" grito \" é : 1\n",
      "Frequencia da palavra: \" de \" é : 2\n",
      "Frequencia da palavra: \" honra \" é : 1\n",
      "Frequencia da palavra: \" glória \" é : 1\n",
      "Frequencia da palavra: \" 🙏❤️🇧🇷 \" é : 1\n",
      "Frequencia da palavra: \" MEU \" é : 1\n",
      "Frequencia da palavra: \" CONSEGUI!! \" é : 1\n",
      "Frequencia da palavra: \" https://t.co/0VMA5AJqtbGrito \" é : 1\n",
      "Frequencia da palavra: \" Que \" é : 1\n"
     ]
    }
   ],
   "source": [
    "def freq(str): \n",
    "    str_list = str.split() \n",
    "    unique_words = set(str_list) \n",
    "    for words in unique_words : \n",
    "        print('Frequencia da palavra: \"', words , '\" é :', str_list.count(words)) \n",
    "\n",
    "freq(msg) "
   ]
  }
 ],
 "metadata": {
  "kernelspec": {
   "display_name": "Python 3",
   "language": "python",
   "name": "python3"
  },
  "language_info": {
   "codemirror_mode": {
    "name": "ipython",
    "version": 3
   },
   "file_extension": ".py",
   "mimetype": "text/x-python",
   "name": "python",
   "nbconvert_exporter": "python",
   "pygments_lexer": "ipython3",
   "version": "3.7.6"
  }
 },
 "nbformat": 4,
 "nbformat_minor": 5
}
